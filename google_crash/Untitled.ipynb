{
 "cells": [
  {
   "cell_type": "code",
   "execution_count": null,
   "metadata": {},
   "outputs": [],
   "source": [
    "import tensorflow as tf\n",
    "\n",
    "# Set up a linear classifier\n",
    "classifier = tf.estimator.LinearClassifier(feature_columns)\n",
    "\n",
    "# Train the model on some example data\n",
    "classifier.train(input_fn=train_input_fn, steps=2000)\n",
    "\n",
    "# Use it to predict\n",
    "predictions = classifier.predict(input_fn=predict_input_fn)"
   ]
  }
 ],
 "metadata": {
  "kernelspec": {
   "display_name": "Python 3",
   "language": "python",
   "name": "python3"
  },
  "language_info": {
   "codemirror_mode": {
    "name": "ipython",
    "version": 3
   },
   "file_extension": ".py",
   "mimetype": "text/x-python",
   "name": "python",
   "nbconvert_exporter": "python",
   "pygments_lexer": "ipython3",
   "version": "3.6.5"
  }
 },
 "nbformat": 4,
 "nbformat_minor": 2
}
